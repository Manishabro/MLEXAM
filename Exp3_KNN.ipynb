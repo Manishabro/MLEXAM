{
 "cells": [
  {
   "cell_type": "code",
   "execution_count": 3,
   "metadata": {},
   "outputs": [],
   "source": [
    "from sklearn.model_selection import train_test_split\n",
    "from sklearn.neighbors import KNeighborsClassifier\n",
    "from sklearn import datasets\n",
    "from sklearn import metrics\n"
   ]
  },
  {
   "cell_type": "code",
   "execution_count": 28,
   "metadata": {},
   "outputs": [
    {
     "name": "stdout",
     "output_type": "stream",
     "text": [
      "Iris Dataset loaded...\n",
      "Dataset is split into training and testing samples...\n",
      "size of training data and its label (135, 4) (135,)\n",
      "size of testing data and its label (15, 4) (15,)\n"
     ]
    }
   ],
   "source": [
    "iris=datasets.load_iris()\n",
    "print(\"Iris Dataset loaded...\")\n",
    "x_train,x_test,y_train,y_test=train_test_split(iris.data,iris.target,test_size=0.1)\n",
    "print(\"Dataset is split into training and testing samples...\")\n",
    "print(\"size of training data and its label\",x_train.shape,y_train.shape)\n",
    "print(\"size of testing data and its label\",x_test.shape,y_test.shape)\n"
   ]
  },
  {
   "cell_type": "code",
   "execution_count": 29,
   "metadata": {},
   "outputs": [
    {
     "name": "stdout",
     "output_type": "stream",
     "text": [
      "Label 0 - setosa\n",
      "Label 1 - versicolor\n",
      "Label 2 - virginica\n",
      "Result of Classification using K-nn with k=1\n",
      "\n",
      "--------------------------------------------------------------------\n",
      "original Label            predicted Label           correct/wrong            \n",
      "----------------------------------------------------------------------\n",
      "0                         0                         correct                  \n",
      "0                         0                         correct                  \n",
      "1                         1                         correct                  \n",
      "1                         1                         correct                  \n",
      "0                         0                         correct                  \n",
      "0                         0                         correct                  \n",
      "1                         1                         correct                  \n",
      "2                         2                         correct                  \n",
      "1                         1                         correct                  \n",
      "2                         2                         correct                  \n",
      "2                         1                         wrong                    \n",
      "0                         0                         correct                  \n",
      "2                         2                         correct                  \n",
      "1                         1                         correct                  \n",
      "2                         2                         correct                  \n",
      "\n",
      "confusion Matrix:\n",
      " [[5 0 0]\n",
      " [0 5 0]\n",
      " [0 1 4]]\n",
      "Classification Accuracy: 0.933333333333\n"
     ]
    }
   ],
   "source": [
    "for i in range(len(iris.target_names)):\n",
    "    print(\"Label\",i,\"-\",str(iris.target_names[i]))\n",
    "    \n",
    "classifier=KNeighborsClassifier(n_neighbors=1)\n",
    "classifier.fit(x_train,y_train)\n",
    "y_pred=classifier.predict(x_test)\n",
    "\n",
    "print(\"Result of Classification using K-nn with k=1\")\n",
    "print(\"\\n--------------------------------------------------------------------\")\n",
    "print('%-25s %-25s %-25s'%('original Label','predicted Label','correct/wrong'))\n",
    "\n",
    "print(\"----------------------------------------------------------------------\")\n",
    "for r in range(0,len(x_test)):\n",
    "    print('%-25s %-25s' % (y_test[r],y_pred[r]),end=\" \")\n",
    "    if(y_test[r] == y_pred[r]):\n",
    "        print('%-25s'%('correct'))\n",
    "    else:\n",
    "        print('%-25s'%('wrong'))\n",
    "            \n",
    "print(\"\\nconfusion Matrix:\\n\",metrics.confusion_matrix(y_test,y_pred))\n",
    "print(\"Classification Accuracy:\",metrics.accuracy_score(y_test,y_pred));\n",
    "        "
   ]
  },
  {
   "cell_type": "code",
   "execution_count": null,
   "metadata": {
    "collapsed": true
   },
   "outputs": [],
   "source": []
  }
 ],
 "metadata": {
  "kernelspec": {
   "display_name": "Python 3 (ipykernel)",
   "language": "python",
   "name": "python3"
  },
  "language_info": {
   "codemirror_mode": {
    "name": "ipython",
    "version": 3
   },
   "file_extension": ".py",
   "mimetype": "text/x-python",
   "name": "python",
   "nbconvert_exporter": "python",
   "pygments_lexer": "ipython3",
   "version": "3.11.5"
  }
 },
 "nbformat": 4,
 "nbformat_minor": 2
}
